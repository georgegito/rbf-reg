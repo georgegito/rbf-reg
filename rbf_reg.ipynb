{
 "cells": [
  {
   "cell_type": "code",
   "execution_count": 76,
   "id": "5e958ca4",
   "metadata": {},
   "outputs": [],
   "source": [
    "import numpy as np\n",
    "from scipy.spatial import distance\n",
    "\n",
    "def ComputeMaxDistance(X1, X2):\n",
    "    \n",
    "    max_dist = 0\n",
    "    for x1 in X1:\n",
    "        for x2 in X2:\n",
    "            dist = distance.euclidean(x1, x2)\n",
    "            max_dist = max(dist, max_dist)\n",
    "    \n",
    "    return max_dist"
   ]
  },
  {
   "cell_type": "code",
   "execution_count": 77,
   "id": "29fc2a7a",
   "metadata": {},
   "outputs": [],
   "source": [
    "import numpy as np\n",
    "import pandas as pd\n",
    "import matplotlib.pyplot as plt\n",
    "import math\n",
    "from sklearn.model_selection import train_test_split\n",
    "from sklearn.cluster import KMeans\n",
    "import tensorflow as tf \n",
    "from tensorflow import keras\n",
    "from tensorflow.keras import Input\n",
    "from tensorflow.keras import layers\n",
    "from tensorflow.keras.optimizers import RMSprop\n",
    "\n",
    "def RBF_kernel(x, centers, sigma):\n",
    "  return [math.exp(-np.linalg.norm(x - c)**2) / (2 * sigma**2) for c in centers]\n",
    "\n",
    "def RBF_layer_output(x, centers, sigma):\n",
    "  return [RBF_kernel(x_, centers, sigma) for x_ in x]\n",
    "\n",
    "class RBF(keras.layers.Layer):\n",
    "  def __init__(self, units):\n",
    "    super(RBF, self).__init__()\n",
    "    self.units = units\n",
    "\n",
    "  def build(self, input_shape):\n",
    "    # w and b will be removed\n",
    "    self.w = self.add_weight(\n",
    "      shape=(input_shape[-1], self.units), initializer=\"ones\", trainable=False\n",
    "    )\n",
    "    self.b = self.add_weight(shape=(self.units,), initializer=\"zeros\", trainable=False) \n",
    "\n",
    "  def call(self, inputs):\n",
    "    return [0 for i in range(37)]\n",
    "    # return RBF_layer_output(inputs, self.centers, self.sigma)\n",
    "    # return tf.matmul(float(inputs), float(self.w)) + float(self.b) # TODO rbf\n",
    "    # return [0, 0, 0]\n",
    "\n",
    "  def compute_params(self, inputs):\n",
    "    kmeans = KMeans(n_clusters=self.units, random_state=0, copy_x=True).fit(inputs)\n",
    "    self.centers = kmeans.cluster_centers_\n",
    "    self.d_max = ComputeMaxDistance(self.centers, self.centers)\n",
    "    self.sigma = self.d_max / (math.sqrt(2 * self.centers.shape[0]))"
   ]
  },
  {
   "cell_type": "code",
   "execution_count": 78,
   "id": "6318e71e",
   "metadata": {},
   "outputs": [
    {
     "name": "stdout",
     "output_type": "stream",
     "text": [
      "Test passed\n",
      "[0, 0, 0, 0, 0, 0, 0, 0, 0, 0, 0, 0, 0, 0, 0, 0, 0, 0, 0, 0, 0, 0, 0, 0, 0, 0, 0, 0, 0, 0, 0, 0, 0, 0, 0, 0, 0]\n"
     ]
    }
   ],
   "source": [
    "import numpy as np\n",
    "import tensorflow as tf\n",
    "from sklearn.cluster import KMeans\n",
    "import utils\n",
    "import math\n",
    "import os\n",
    "\n",
    "def test_params(d_max, sigma, err):\n",
    "    if abs(d_max - 68.1778719396713) < err and abs(sigma - 27.83349966683499) < err:\n",
    "        return True\n",
    "    else:\n",
    "        return False\n",
    "\n",
    "# ---------------------------------------------------------------------------- #\n",
    "#                                     test                                     #\n",
    "# ---------------------------------------------------------------------------- #\n",
    "\n",
    "num_of_samples = 6\n",
    "np.random.seed(0)\n",
    "x = np.random.randint(low=0, high=100, size=(num_of_samples, 2))\n",
    "hidden_size = 3\n",
    "\n",
    "rbf_layer_ = RBF(hidden_size)\n",
    "rbf_layer_.compute_params(x)\n",
    "\n",
    "if (test_params(rbf_layer_.d_max, rbf_layer_.sigma, 0.00001)):\n",
    "    print(\"Test passed\")\n",
    "else:\n",
    "    print(\"Test failed\")\n",
    "\n",
    "\n",
    "y = rbf_layer_(x)\n",
    "print(y)\n",
    "\n",
    "\n"
   ]
  },
  {
   "cell_type": "code",
   "execution_count": 79,
   "id": "c2f5079e",
   "metadata": {},
   "outputs": [],
   "source": [
    "import numpy as np\n",
    "import pandas as pd\n",
    "import matplotlib.pyplot as plt\n",
    "import math\n",
    "from sklearn.model_selection import train_test_split\n",
    "from sklearn.cluster import KMeans\n",
    "import tensorflow as tf \n",
    "from tensorflow import keras\n",
    "from tensorflow.keras import Input\n",
    "from tensorflow.keras import layers\n",
    "from tensorflow.keras.optimizers import RMSprop\n",
    "import utils\n",
    "import rbf_layer\n",
    "\n",
    "# ---------------------------------------------------------------------------- #\n",
    "#                                   read data                                  #\n",
    "# ---------------------------------------------------------------------------- #\n",
    "\n",
    "# data_url = \"http://lib.stat.cmu.edu/datasets/boston\"\n",
    "data = \"boston.csv\"\n",
    "raw_df = pd.read_csv(data, sep=\"\\s+\", skiprows=22, header=None)\n",
    "X = np.hstack([raw_df.values[::2, :], raw_df.values[1::2, :2]])\n",
    "y = raw_df.values[1::2, 2]\n",
    "\n",
    "# ---------------------------------------------------------------------------- #\n",
    "#                      split data to training and testing                      #\n",
    "# ---------------------------------------------------------------------------- #\n",
    "\n",
    "X_train, X_test, y_train, y_test = train_test_split(X, y, train_size=0.75, test_size=0.25, random_state=0)\n"
   ]
  },
  {
   "cell_type": "code",
   "execution_count": 80,
   "id": "63edf85e",
   "metadata": {},
   "outputs": [],
   "source": [
    "n_train = X_train.shape[0]\n",
    "hidden_size = int(0.1 * n_train)\n",
    "rbf_layer_ = rbf_layer.RBF(hidden_size)\n",
    "rbf_layer_.compute_params(X_train)"
   ]
  },
  {
   "cell_type": "code",
   "execution_count": 81,
   "id": "5976f072",
   "metadata": {},
   "outputs": [],
   "source": [
    "model = keras.Sequential()\n",
    "model.add(Input(shape=(13,)))"
   ]
  },
  {
   "cell_type": "code",
   "execution_count": 82,
   "metadata": {},
   "outputs": [
    {
     "ename": "OperatorNotAllowedInGraphError",
     "evalue": "Exception encountered when calling layer \"rbf_17\" (type RBF).\n\nin user code:\n\n    File \"c:\\Users\\gitop\\repos\\computational-intelligence\\rbf-reg\\rbf_layer.py\", line 33, in call  *\n        return RBF_layer_output(inputs, self.centers, self.sigma)\n    File \"c:\\Users\\gitop\\repos\\computational-intelligence\\rbf-reg\\rbf_layer.py\", line 18, in RBF_layer_output  *\n        return [RBF_kernel(x_, centers, sigma) for x_ in x]\n\n    OperatorNotAllowedInGraphError: iterating over `tf.Tensor` is not allowed in Graph execution. Use Eager execution or decorate this function with @tf.function.\n\n\nCall arguments received:\n  • inputs=tf.Tensor(shape=(None, 13), dtype=float32)",
     "output_type": "error",
     "traceback": [
      "\u001b[1;31m---------------------------------------------------------------------------\u001b[0m",
      "\u001b[1;31mOperatorNotAllowedInGraphError\u001b[0m            Traceback (most recent call last)",
      "\u001b[1;32mc:\\Users\\gitop\\repos\\computational-intelligence\\rbf-reg\\Untitled.ipynb Cell 7'\u001b[0m in \u001b[0;36m<cell line: 1>\u001b[1;34m()\u001b[0m\n\u001b[1;32m----> <a href='vscode-notebook-cell:/c%3A/Users/gitop/repos/computational-intelligence/rbf-reg/Untitled.ipynb#ch0000010?line=0'>1</a>\u001b[0m model\u001b[39m.\u001b[39;49madd(rbf_layer_)\n",
      "File \u001b[1;32m~\\AppData\\Roaming\\Python\\Python39\\site-packages\\tensorflow\\python\\training\\tracking\\base.py:530\u001b[0m, in \u001b[0;36mno_automatic_dependency_tracking.<locals>._method_wrapper\u001b[1;34m(self, *args, **kwargs)\u001b[0m\n\u001b[0;32m    528\u001b[0m \u001b[39mself\u001b[39m\u001b[39m.\u001b[39m_self_setattr_tracking \u001b[39m=\u001b[39m \u001b[39mFalse\u001b[39;00m  \u001b[39m# pylint: disable=protected-access\u001b[39;00m\n\u001b[0;32m    529\u001b[0m \u001b[39mtry\u001b[39;00m:\n\u001b[1;32m--> 530\u001b[0m   result \u001b[39m=\u001b[39m method(\u001b[39mself\u001b[39m, \u001b[39m*\u001b[39margs, \u001b[39m*\u001b[39m\u001b[39m*\u001b[39mkwargs)\n\u001b[0;32m    531\u001b[0m \u001b[39mfinally\u001b[39;00m:\n\u001b[0;32m    532\u001b[0m   \u001b[39mself\u001b[39m\u001b[39m.\u001b[39m_self_setattr_tracking \u001b[39m=\u001b[39m previous_value  \u001b[39m# pylint: disable=protected-access\u001b[39;00m\n",
      "File \u001b[1;32mc:\\Python39\\lib\\site-packages\\keras\\utils\\traceback_utils.py:67\u001b[0m, in \u001b[0;36mfilter_traceback.<locals>.error_handler\u001b[1;34m(*args, **kwargs)\u001b[0m\n\u001b[0;32m     65\u001b[0m \u001b[39mexcept\u001b[39;00m \u001b[39mException\u001b[39;00m \u001b[39mas\u001b[39;00m e:  \u001b[39m# pylint: disable=broad-except\u001b[39;00m\n\u001b[0;32m     66\u001b[0m   filtered_tb \u001b[39m=\u001b[39m _process_traceback_frames(e\u001b[39m.\u001b[39m__traceback__)\n\u001b[1;32m---> 67\u001b[0m   \u001b[39mraise\u001b[39;00m e\u001b[39m.\u001b[39mwith_traceback(filtered_tb) \u001b[39mfrom\u001b[39;00m \u001b[39mNone\u001b[39m\n\u001b[0;32m     68\u001b[0m \u001b[39mfinally\u001b[39;00m:\n\u001b[0;32m     69\u001b[0m   \u001b[39mdel\u001b[39;00m filtered_tb\n",
      "File \u001b[1;32m~\\AppData\\Roaming\\Python\\Python39\\site-packages\\tensorflow\\python\\autograph\\impl\\api.py:699\u001b[0m, in \u001b[0;36mconvert.<locals>.decorator.<locals>.wrapper\u001b[1;34m(*args, **kwargs)\u001b[0m\n\u001b[0;32m    697\u001b[0m \u001b[39mexcept\u001b[39;00m \u001b[39mException\u001b[39;00m \u001b[39mas\u001b[39;00m e:  \u001b[39m# pylint:disable=broad-except\u001b[39;00m\n\u001b[0;32m    698\u001b[0m   \u001b[39mif\u001b[39;00m \u001b[39mhasattr\u001b[39m(e, \u001b[39m'\u001b[39m\u001b[39mag_error_metadata\u001b[39m\u001b[39m'\u001b[39m):\n\u001b[1;32m--> 699\u001b[0m     \u001b[39mraise\u001b[39;00m e\u001b[39m.\u001b[39mag_error_metadata\u001b[39m.\u001b[39mto_exception(e)\n\u001b[0;32m    700\u001b[0m   \u001b[39melse\u001b[39;00m:\n\u001b[0;32m    701\u001b[0m     \u001b[39mraise\u001b[39;00m\n",
      "\u001b[1;31mOperatorNotAllowedInGraphError\u001b[0m: Exception encountered when calling layer \"rbf_17\" (type RBF).\n\nin user code:\n\n    File \"c:\\Users\\gitop\\repos\\computational-intelligence\\rbf-reg\\rbf_layer.py\", line 33, in call  *\n        return RBF_layer_output(inputs, self.centers, self.sigma)\n    File \"c:\\Users\\gitop\\repos\\computational-intelligence\\rbf-reg\\rbf_layer.py\", line 18, in RBF_layer_output  *\n        return [RBF_kernel(x_, centers, sigma) for x_ in x]\n\n    OperatorNotAllowedInGraphError: iterating over `tf.Tensor` is not allowed in Graph execution. Use Eager execution or decorate this function with @tf.function.\n\n\nCall arguments received:\n  • inputs=tf.Tensor(shape=(None, 13), dtype=float32)"
     ]
    }
   ],
   "source": [
    "model.add(rbf_layer_)\n"
   ]
  },
  {
   "cell_type": "code",
   "execution_count": 13,
   "id": "fd67cfdb",
   "metadata": {},
   "outputs": [
    {
     "data": {
      "text/plain": [
       "<tf.Tensor: shape=(4,), dtype=float32, numpy=array([ 2.7182817,  7.389056 , 20.085537 , 54.59815  ], dtype=float32)>"
      ]
     },
     "execution_count": 13,
     "metadata": {},
     "output_type": "execute_result"
    }
   ],
   "source": [
    "import tensorflow as tf\n",
    "\n",
    "arr = [1., 2., 3., 4.]\n",
    "arr2 = tf.constant(arr)\n",
    "0.5*tf.math.exp(arr2)"
   ]
  },
  {
   "cell_type": "code",
   "execution_count": 32,
   "id": "e98bf180",
   "metadata": {},
   "outputs": [],
   "source": [
    "# x = np.array([[1., 2.], [3., 4.], [5., 6.]])\n",
    "# centers = np.array([[1., 2.], [3., 4.], [5., 6.]])\n",
    "# sigma = 1"
   ]
  },
  {
   "cell_type": "code",
   "execution_count": 37,
   "id": "32e07b1c",
   "metadata": {},
   "outputs": [
    {
     "data": {
      "text/plain": [
       "True"
      ]
     },
     "execution_count": 37,
     "metadata": {},
     "output_type": "execute_result"
    }
   ],
   "source": [
    "# modified kernel test\n",
    "\n",
    "import numpy as np\n",
    "import math\n",
    "\n",
    "\n",
    "def RBF_kernel(x, centers, sigma):\n",
    "  return [math.exp(-np.linalg.norm(x - c)/2) for c in centers]\n",
    "  # return [math.exp(-np.linalg.norm(x - c)**2) / (2 * sigma**2) for c in centers]\n",
    "\n",
    "def RBF_layer_output(x, centers, sigma):\n",
    "  return [RBF_kernel(x_, centers, sigma) for x_ in x]\n",
    "\n",
    "  \n",
    "x = np.array([[0., 0.], [0., 1.], [1., 0.], [1., 1.]])\n",
    "centers = x\n",
    "sigma = 1\n",
    "\n",
    "(RBF_layer_output(x, centers, sigma) == \n",
    "[[1.0, 0.6065306597126334, 0.6065306597126334, 0.4930686913952398],\n",
    " [0.6065306597126334, 1.0, 0.4930686913952398, 0.6065306597126334],\n",
    " [0.6065306597126334, 0.4930686913952398, 1.0, 0.6065306597126334],\n",
    " [0.4930686913952398, 0.6065306597126334, 0.6065306597126334, 1.0]])"
   ]
  }
 ],
 "metadata": {
  "kernelspec": {
   "display_name": "Python 3.9.0 64-bit",
   "language": "python",
   "name": "python3"
  },
  "language_info": {
   "codemirror_mode": {
    "name": "ipython",
    "version": 3
   },
   "file_extension": ".py",
   "mimetype": "text/x-python",
   "name": "python",
   "nbconvert_exporter": "python",
   "pygments_lexer": "ipython3",
   "version": "3.9.0"
  },
  "vscode": {
   "interpreter": {
    "hash": "81794d4967e6c3204c66dcd87b604927b115b27c00565d3d43f05ba2f3a2cb0d"
   }
  }
 },
 "nbformat": 4,
 "nbformat_minor": 5
}
