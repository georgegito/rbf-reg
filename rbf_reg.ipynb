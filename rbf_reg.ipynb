{
 "cells": [
  {
   "cell_type": "code",
   "execution_count": null,
   "metadata": {},
   "outputs": [],
   "source": [
    "import numpy as np\n",
    "import pandas as pd\n",
    "import matplotlib.pyplot as plt\n",
    "import math\n",
    "from sklearn.model_selection import train_test_split\n",
    "from sklearn import preprocessing\n",
    "import tensorflow as tf \n",
    "from tensorflow import keras\n",
    "from keras import Input\n",
    "from keras import layers\n",
    "import utils\n",
    "import rbf_layer\n",
    "from keras import backend as K\n",
    "from scipy.spatial import distance\n",
    "\n",
    "# ---------------------------------------------------------------------------- #\n",
    "#                                   read data                                  #\n",
    "# ---------------------------------------------------------------------------- #\n",
    "\n",
    "# data = \"http://lib.stat.cmu.edu/datasets/boston\"\n",
    "data = \"boston.csv\"\n",
    "raw_df = pd.read_csv(data, sep=\"\\s+\", skiprows=22, header=None)\n",
    "X = np.hstack([raw_df.values[::2, :], raw_df.values[1::2, :2]])\n",
    "y = raw_df.values[1::2, 2]\n",
    "\n",
    "# ---------------------------------------------------------------------------- #\n",
    "#                                normalize data                                #\n",
    "# ---------------------------------------------------------------------------- #\n",
    "\n",
    "preprocessing.scale(X, copy=False)\n",
    "preprocessing.scale(y, copy=False)\n",
    "\n",
    "# ---------------------------------------------------------------------------- #\n",
    "#                      split data to training and testing                      #\n",
    "# ---------------------------------------------------------------------------- #\n",
    "\n",
    "X_train, X_test, y_train, y_test = train_test_split(X, y, train_size=0.75, test_size=0.25, random_state=0)\n",
    "\n",
    "n_train = X_train.shape[0]\n",
    "hidden_size = int(0.1 * n_train)"
   ]
  },
  {
   "cell_type": "code",
   "execution_count": null,
   "metadata": {},
   "outputs": [],
   "source": [
    "rbf_layer_ = rbf_layer.RBF(hidden_size, utils.InitCentersKMeans(X_train))\n",
    "# rbf_layer_.compute_params(X_train)\n",
    "from keras import layers\n",
    "\n",
    "model = keras.Sequential()\n",
    "model.add(Input(shape=(13,)))\n",
    "model.add(rbf_layer_)\n",
    "model.add(layers.Dense(8, activation='relu'))\n",
    "# model.add(layers.Dense(1, activation='sigmoid'))\n"
   ]
  },
  {
   "cell_type": "code",
   "execution_count": null,
   "metadata": {},
   "outputs": [],
   "source": [
    "model.compile(loss='binary_crossentropy', optimizer='adam', metrics=['accuracy'])\n",
    "history = model.fit(X_train, y_train, epochs=5, batch_size=10)"
   ]
  },
  {
   "cell_type": "code",
   "execution_count": null,
   "metadata": {},
   "outputs": [],
   "source": [
    "# print(history.params)\n",
    "model.summary()"
   ]
  },
  {
   "cell_type": "code",
   "execution_count": null,
   "metadata": {},
   "outputs": [],
   "source": [
    "import tensorflow as tf \n",
    "import numpy as np\n",
    "\n",
    "a = tf.Variable(np.array([[1., 2., 3.], [4., 5., 6.]]))\n",
    "b = tf.Variable(np.array([[1., 2., 3.], [4., 3., 4.]]))\n",
    "\n",
    "\n",
    "def euclideanDistance(x, y):\n",
    "    dist = tf.sqrt(tf.reduce_sum(tf.square(x - y), 1))\n",
    "    return dist\n",
    "\n",
    "d = euclideanDistance(a, b)\n",
    "\n",
    "print(tf.norm(a-b))"
   ]
  },
  {
   "cell_type": "code",
   "execution_count": null,
   "metadata": {},
   "outputs": [],
   "source": []
  }
 ],
 "metadata": {
  "kernelspec": {
   "display_name": "Python 3.9.0 64-bit",
   "language": "python",
   "name": "python3"
  },
  "language_info": {
   "codemirror_mode": {
    "name": "ipython",
    "version": 3
   },
   "file_extension": ".py",
   "mimetype": "text/x-python",
   "name": "python",
   "nbconvert_exporter": "python",
   "pygments_lexer": "ipython3",
   "version": "3.9.0"
  },
  "orig_nbformat": 4,
  "vscode": {
   "interpreter": {
    "hash": "81794d4967e6c3204c66dcd87b604927b115b27c00565d3d43f05ba2f3a2cb0d"
   }
  }
 },
 "nbformat": 4,
 "nbformat_minor": 2
}
