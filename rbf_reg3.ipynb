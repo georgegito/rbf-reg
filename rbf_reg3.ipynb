{
 "cells": [
  {
   "cell_type": "code",
   "execution_count": 349,
   "metadata": {},
   "outputs": [],
   "source": [
    "import numpy as np\n",
    "import pandas as pd\n",
    "import matplotlib.pyplot as plt\n",
    "import math\n",
    "from sklearn.model_selection import train_test_split\n",
    "from sklearn.cluster import KMeans\n",
    "import tensorflow as tf \n",
    "from tensorflow import keras\n",
    "from tensorflow.keras import Input\n",
    "from tensorflow.keras import layers\n",
    "from tensorflow.keras.optimizers import RMSprop\n",
    "from keras import backend as K\n",
    "from scipy.spatial import distance\n",
    "\n",
    "def ComputeMaxDistance(X1, X2):\n",
    "    max_dist = 0\n",
    "    for x1 in X1:\n",
    "        for x2 in X2:\n",
    "            dist = distance.euclidean(x1, x2)\n",
    "            max_dist = max(dist, max_dist)\n",
    "    return max_dist\n",
    "\n",
    "def RBF_kernel(x, centers, sigma):\n",
    "  # res = []\n",
    "  # for c in centers:\n",
    "    # res.append(math.exp((-np.linalg.norm(x - c)**2) / (2*sigma**2)))\n",
    "  # res = [math.exp(-np.linalg.norm(x - c)**2) / (2 * sigma**2) for c in centers]\n",
    "  res = [math.exp(-np.linalg.norm(x - c)**2 / (2 * sigma**2)) for c in centers]\n",
    "  return res\n",
    "\n",
    "def RBF_layer_output(x, centers, sigma):\n",
    "  # res = []\n",
    "  # for x_ in x: \n",
    "  #   res.append(RBF_kernel(x_, centers, sigma))\n",
    "  # res = [RBF_kernel(x_, centers, sigma) for x_ in x]\n",
    "  # res = [0 for x_ in x]\n",
    "  res = [RBF_kernel(x_, centers, sigma) for x_ in x]\n",
    "\n",
    "  return res\n",
    "\n",
    "class RBF(keras.layers.Layer):\n",
    "\n",
    "  def __init__(self, num_units):\n",
    "    self.num_units = num_units\n",
    "    super(RBF, self).__init__()\n",
    "\n",
    "  def build(self, input_shape):\n",
    "    # shape1 = tf.TensorShape((input_shape[1], self.num_units))\n",
    "    # shape2 = tf.TensorShape((1, self.num_units))\n",
    "    self.centers = self.add_weight(shape=(input_shape[1], self.num_units), initializer=tf.initializers.RandomNormal, trainable=False) # TODO use custom initializer\n",
    "    self.sigma = self.add_weight(shape=(1, self.num_units), initializer=tf.initializers.RandomNormal, trainable=False) # TODO use custom initializer\n",
    "    # self.betas = np.ones(self.num_units) / (2 * (sigma**2))\n",
    "    # self.sigma    = self.add_weight(shape=1, initializer=tf.initializers.RandomNormal, trainable=False)\n",
    "    super(RBF, self).build(input_shape)\n",
    "\n",
    "  def call(self, inputs):\n",
    "    # C = tf.expand_dims(self.centers, -1)\n",
    "    # D = inputs - C\n",
    "\n",
    "    diff = []\n",
    "    for x in inputs:\n",
    "      diff.append(x - tf.transpose(self.centers))\n",
    "\n",
    "    # print(tf.convert_to_tensor(diff))\n",
    "\n",
    "    D = inputs - tf.transpose(self.centers)\n",
    "    print(D)\n",
    "    return tf.exp(-tf.norm(D, axis=1)**2) / (2 * self.sigma[0]**2) # TODO change sigma[0]\n",
    "\n",
    "  def get_config(self):\n",
    "    base_config = super(RBF, self).get.config\n",
    "    base_config['num_units'] = self.num_units\n",
    "    return base_config\n",
    "\n",
    "  def compute_params(self, inputs):\n",
    "    kmeans = KMeans(n_clusters=self.num_units, random_state=0, copy_x=True).fit(inputs)\n",
    "    self.centers = kmeans.cluster_centers_\n",
    "    d_max = ComputeMaxDistance(self.centers, self.centers)\n",
    "    self.sigma = d_max / (math.sqrt(2 * self.centers.shape[0]))\n",
    "\n"
   ]
  },
  {
   "cell_type": "code",
   "execution_count": 343,
   "metadata": {},
   "outputs": [],
   "source": [
    "import numpy as np\n",
    "import pandas as pd\n",
    "import matplotlib.pyplot as plt\n",
    "import math\n",
    "from sklearn.model_selection import train_test_split\n",
    "from sklearn.cluster import KMeans\n",
    "from sklearn import preprocessing\n",
    "import tensorflow as tf \n",
    "from tensorflow import keras\n",
    "from tensorflow.keras import Input\n",
    "from tensorflow.keras import layers\n",
    "from tensorflow.keras.optimizers import RMSprop\n",
    "import utils\n",
    "import rbf_layer\n",
    "\n",
    "# ---------------------------------------------------------------------------- #\n",
    "#                                   read data                                  #\n",
    "# ---------------------------------------------------------------------------- #\n",
    "\n",
    "# data_url = \"http://lib.stat.cmu.edu/datasets/boston\"\n",
    "data = \"boston.csv\"\n",
    "raw_df = pd.read_csv(data, sep=\"\\s+\", skiprows=22, header=None)\n",
    "X = np.hstack([raw_df.values[::2, :], raw_df.values[1::2, :2]])\n",
    "y = raw_df.values[1::2, 2]\n",
    "\n",
    "# ---------------------------------------------------------------------------- #\n",
    "#                                normalize data                                #\n",
    "# ---------------------------------------------------------------------------- #\n",
    "\n",
    "preprocessing.scale(X, copy=False)\n",
    "preprocessing.scale(y, copy=False)\n",
    "\n",
    "# ---------------------------------------------------------------------------- #\n",
    "#                      split data to training and testing                      #\n",
    "# ---------------------------------------------------------------------------- #\n",
    "\n",
    "X_train, X_test, y_train, y_test = train_test_split(X, y, train_size=0.75, test_size=0.25, random_state=0)\n",
    "\n",
    "n_train = X_train.shape[0]\n",
    "hidden_size = int(0.1 * n_train)"
   ]
  },
  {
   "cell_type": "code",
   "execution_count": 350,
   "metadata": {},
   "outputs": [
    {
     "name": "stdout",
     "output_type": "stream",
     "text": [
      "Tensor(\"rbf_77/sub:0\", shape=(37, 13), dtype=float32)\n"
     ]
    }
   ],
   "source": [
    "rbf_layer_ = RBF(hidden_size)\n",
    "rbf_layer_.compute_params(X_train)\n",
    "# rbf_layer_.compute_params(X_train)\n",
    "\n",
    "from keras import layers\n",
    "\n",
    "model = keras.Sequential()\n",
    "model.add(Input(shape=(13,)))\n",
    "# model.add(rbf_layer_)\n",
    "# model.add(layers.Dense(12, input_shape=(13,), activation='relu'))\n",
    "model.add(rbf_layer_)\n",
    "# model.add(layers.Dense(8, activation='relu'))\n",
    "# model.add(layers.Dense(1, activation='sigmoid'))\n"
   ]
  },
  {
   "cell_type": "code",
   "execution_count": 351,
   "metadata": {},
   "outputs": [],
   "source": [
    "# model.compile(optimizer=tf.keras.optimizers.Adam(),\n",
    "#               loss=tf.keras.losses.SparseCategoricalCrossentropy(), \n",
    "#               metrics=['accuracy'])\n",
    "\n",
    "# model.compile(loss='binary_crossentropy', optimizer='adam', metrics=['accuracy'])\n",
    "model.compile()\n",
    "# model.fit(X_train, y_train, epochs=5, batch_size=10)\n",
    "\n",
    "# train model\n",
    "# history = model.fit(X_train, y_train)\n"
   ]
  },
  {
   "cell_type": "code",
   "execution_count": 353,
   "metadata": {},
   "outputs": [
    {
     "name": "stdout",
     "output_type": "stream",
     "text": [
      "Tensor(\"sequential_77/rbf_77/sub:0\", shape=(37, 13), dtype=float32)\n"
     ]
    },
    {
     "ename": "InvalidArgumentError",
     "evalue": " Incompatible shapes: [3,13] vs. [37,13]\n\t [[node sequential_77/rbf_77/sub\n (defined at C:\\Users\\gitop\\AppData\\Local\\Temp\\ipykernel_13384\\2948013630.py:66)\n]] [Op:__inference_predict_function_24187]\n\nErrors may have originated from an input operation.\nInput Source operations connected to node sequential_77/rbf_77/sub:\nIn[0] IteratorGetNext (defined at c:\\Python39\\lib\\site-packages\\keras\\engine\\training.py:1610)\t\nIn[1] sequential_77/rbf_77/transpose:\n\nOperation defined at: (most recent call last)\n>>>   File \"c:\\Python39\\lib\\runpy.py\", line 197, in _run_module_as_main\n>>>     return _run_code(code, main_globals, None,\n>>> \n>>>   File \"c:\\Python39\\lib\\runpy.py\", line 87, in _run_code\n>>>     exec(code, run_globals)\n>>> \n>>>   File \"C:\\Users\\gitop\\AppData\\Roaming\\Python\\Python39\\site-packages\\ipykernel_launcher.py\", line 17, in <module>\n>>>     app.launch_new_instance()\n>>> \n>>>   File \"c:\\Python39\\lib\\site-packages\\traitlets\\config\\application.py\", line 976, in launch_instance\n>>>     app.start()\n>>> \n>>>   File \"C:\\Users\\gitop\\AppData\\Roaming\\Python\\Python39\\site-packages\\ipykernel\\kernelapp.py\", line 712, in start\n>>>     self.io_loop.start()\n>>> \n>>>   File \"c:\\Python39\\lib\\site-packages\\tornado\\platform\\asyncio.py\", line 199, in start\n>>>     self.asyncio_loop.run_forever()\n>>> \n>>>   File \"c:\\Python39\\lib\\asyncio\\base_events.py\", line 596, in run_forever\n>>>     self._run_once()\n>>> \n>>>   File \"c:\\Python39\\lib\\asyncio\\base_events.py\", line 1890, in _run_once\n>>>     handle._run()\n>>> \n>>>   File \"c:\\Python39\\lib\\asyncio\\events.py\", line 80, in _run\n>>>     self._context.run(self._callback, *self._args)\n>>> \n>>>   File \"C:\\Users\\gitop\\AppData\\Roaming\\Python\\Python39\\site-packages\\ipykernel\\kernelbase.py\", line 510, in dispatch_queue\n>>>     await self.process_one()\n>>> \n>>>   File \"C:\\Users\\gitop\\AppData\\Roaming\\Python\\Python39\\site-packages\\ipykernel\\kernelbase.py\", line 499, in process_one\n>>>     await dispatch(*args)\n>>> \n>>>   File \"C:\\Users\\gitop\\AppData\\Roaming\\Python\\Python39\\site-packages\\ipykernel\\kernelbase.py\", line 406, in dispatch_shell\n>>>     await result\n>>> \n>>>   File \"C:\\Users\\gitop\\AppData\\Roaming\\Python\\Python39\\site-packages\\ipykernel\\kernelbase.py\", line 730, in execute_request\n>>>     reply_content = await reply_content\n>>> \n>>>   File \"C:\\Users\\gitop\\AppData\\Roaming\\Python\\Python39\\site-packages\\ipykernel\\ipkernel.py\", line 383, in do_execute\n>>>     res = shell.run_cell(\n>>> \n>>>   File \"C:\\Users\\gitop\\AppData\\Roaming\\Python\\Python39\\site-packages\\ipykernel\\zmqshell.py\", line 528, in run_cell\n>>>     return super().run_cell(*args, **kwargs)\n>>> \n>>>   File \"C:\\Users\\gitop\\AppData\\Roaming\\Python\\Python39\\site-packages\\IPython\\core\\interactiveshell.py\", line 2881, in run_cell\n>>>     result = self._run_cell(\n>>> \n>>>   File \"C:\\Users\\gitop\\AppData\\Roaming\\Python\\Python39\\site-packages\\IPython\\core\\interactiveshell.py\", line 2936, in _run_cell\n>>>     return runner(coro)\n>>> \n>>>   File \"C:\\Users\\gitop\\AppData\\Roaming\\Python\\Python39\\site-packages\\IPython\\core\\async_helpers.py\", line 129, in _pseudo_sync_runner\n>>>     coro.send(None)\n>>> \n>>>   File \"C:\\Users\\gitop\\AppData\\Roaming\\Python\\Python39\\site-packages\\IPython\\core\\interactiveshell.py\", line 3135, in run_cell_async\n>>>     has_raised = await self.run_ast_nodes(code_ast.body, cell_name,\n>>> \n>>>   File \"C:\\Users\\gitop\\AppData\\Roaming\\Python\\Python39\\site-packages\\IPython\\core\\interactiveshell.py\", line 3338, in run_ast_nodes\n>>>     if await self.run_code(code, result, async_=asy):\n>>> \n>>>   File \"C:\\Users\\gitop\\AppData\\Roaming\\Python\\Python39\\site-packages\\IPython\\core\\interactiveshell.py\", line 3398, in run_code\n>>>     exec(code_obj, self.user_global_ns, self.user_ns)\n>>> \n>>>   File \"C:\\Users\\gitop\\AppData\\Local\\Temp\\ipykernel_13384\\669943231.py\", line 3, in <cell line: 3>\n>>>     model.predict(X_train[0:3])\n>>> \n>>>   File \"c:\\Python39\\lib\\site-packages\\keras\\utils\\traceback_utils.py\", line 64, in error_handler\n>>>     return fn(*args, **kwargs)\n>>> \n>>>   File \"c:\\Python39\\lib\\site-packages\\keras\\engine\\training.py\", line 1789, in predict\n>>>     tmp_batch_outputs = self.predict_function(iterator)\n>>> \n>>>   File \"c:\\Python39\\lib\\site-packages\\keras\\engine\\training.py\", line 1621, in predict_function\n>>>     return step_function(self, iterator)\n>>> \n>>>   File \"c:\\Python39\\lib\\site-packages\\keras\\engine\\training.py\", line 1611, in step_function\n>>>     outputs = model.distribute_strategy.run(run_step, args=(data,))\n>>> \n>>>   File \"c:\\Python39\\lib\\site-packages\\keras\\engine\\training.py\", line 1604, in run_step\n>>>     outputs = model.predict_step(data)\n>>> \n>>>   File \"c:\\Python39\\lib\\site-packages\\keras\\engine\\training.py\", line 1572, in predict_step\n>>>     return self(x, training=False)\n>>> \n>>>   File \"c:\\Python39\\lib\\site-packages\\keras\\utils\\traceback_utils.py\", line 64, in error_handler\n>>>     return fn(*args, **kwargs)\n>>> \n>>>   File \"c:\\Python39\\lib\\site-packages\\keras\\engine\\base_layer.py\", line 1083, in __call__\n>>>     outputs = call_fn(inputs, *args, **kwargs)\n>>> \n>>>   File \"c:\\Python39\\lib\\site-packages\\keras\\utils\\traceback_utils.py\", line 92, in error_handler\n>>>     return fn(*args, **kwargs)\n>>> \n>>>   File \"c:\\Python39\\lib\\site-packages\\keras\\engine\\sequential.py\", line 373, in call\n>>>     return super(Sequential, self).call(inputs, training=training, mask=mask)\n>>> \n>>>   File \"c:\\Python39\\lib\\site-packages\\keras\\engine\\functional.py\", line 451, in call\n>>>     return self._run_internal_graph(\n>>> \n>>>   File \"c:\\Python39\\lib\\site-packages\\keras\\engine\\functional.py\", line 589, in _run_internal_graph\n>>>     outputs = node.layer(*args, **kwargs)\n>>> \n>>>   File \"c:\\Python39\\lib\\site-packages\\keras\\utils\\traceback_utils.py\", line 64, in error_handler\n>>>     return fn(*args, **kwargs)\n>>> \n>>>   File \"c:\\Python39\\lib\\site-packages\\keras\\engine\\base_layer.py\", line 1083, in __call__\n>>>     outputs = call_fn(inputs, *args, **kwargs)\n>>> \n>>>   File \"c:\\Python39\\lib\\site-packages\\keras\\utils\\traceback_utils.py\", line 92, in error_handler\n>>>     return fn(*args, **kwargs)\n>>> \n>>>   File \"C:\\Users\\gitop\\AppData\\Local\\Temp\\ipykernel_13384\\2948013630.py\", line 66, in call\n>>>     D = inputs - tf.transpose(self.centers)\n>>> ",
     "output_type": "error",
     "traceback": [
      "\u001b[1;31m---------------------------------------------------------------------------\u001b[0m",
      "\u001b[1;31mInvalidArgumentError\u001b[0m                      Traceback (most recent call last)",
      "\u001b[1;32mc:\\Users\\gitop\\repos\\computational-intelligence\\rbf-reg\\rbf_reg3.ipynb Cell 5\u001b[0m in \u001b[0;36m<cell line: 3>\u001b[1;34m()\u001b[0m\n\u001b[0;32m      <a href='vscode-notebook-cell:/c%3A/Users/gitop/repos/computational-intelligence/rbf-reg/rbf_reg3.ipynb#ch0000004?line=0'>1</a>\u001b[0m \u001b[39m# print(history.params)\u001b[39;00m\n\u001b[0;32m      <a href='vscode-notebook-cell:/c%3A/Users/gitop/repos/computational-intelligence/rbf-reg/rbf_reg3.ipynb#ch0000004?line=1'>2</a>\u001b[0m \u001b[39m# model.summary()\u001b[39;00m\n\u001b[1;32m----> <a href='vscode-notebook-cell:/c%3A/Users/gitop/repos/computational-intelligence/rbf-reg/rbf_reg3.ipynb#ch0000004?line=2'>3</a>\u001b[0m model\u001b[39m.\u001b[39;49mpredict(X_train[\u001b[39m0\u001b[39;49m:\u001b[39m3\u001b[39;49m])\n",
      "File \u001b[1;32mc:\\Python39\\lib\\site-packages\\keras\\utils\\traceback_utils.py:67\u001b[0m, in \u001b[0;36mfilter_traceback.<locals>.error_handler\u001b[1;34m(*args, **kwargs)\u001b[0m\n\u001b[0;32m     65\u001b[0m \u001b[39mexcept\u001b[39;00m \u001b[39mException\u001b[39;00m \u001b[39mas\u001b[39;00m e:  \u001b[39m# pylint: disable=broad-except\u001b[39;00m\n\u001b[0;32m     66\u001b[0m   filtered_tb \u001b[39m=\u001b[39m _process_traceback_frames(e\u001b[39m.\u001b[39m__traceback__)\n\u001b[1;32m---> 67\u001b[0m   \u001b[39mraise\u001b[39;00m e\u001b[39m.\u001b[39mwith_traceback(filtered_tb) \u001b[39mfrom\u001b[39;00m \u001b[39mNone\u001b[39m\n\u001b[0;32m     68\u001b[0m \u001b[39mfinally\u001b[39;00m:\n\u001b[0;32m     69\u001b[0m   \u001b[39mdel\u001b[39;00m filtered_tb\n",
      "File \u001b[1;32m~\\AppData\\Roaming\\Python\\Python39\\site-packages\\tensorflow\\python\\eager\\execute.py:58\u001b[0m, in \u001b[0;36mquick_execute\u001b[1;34m(op_name, num_outputs, inputs, attrs, ctx, name)\u001b[0m\n\u001b[0;32m     56\u001b[0m \u001b[39mtry\u001b[39;00m:\n\u001b[0;32m     57\u001b[0m   ctx\u001b[39m.\u001b[39mensure_initialized()\n\u001b[1;32m---> 58\u001b[0m   tensors \u001b[39m=\u001b[39m pywrap_tfe\u001b[39m.\u001b[39mTFE_Py_Execute(ctx\u001b[39m.\u001b[39m_handle, device_name, op_name,\n\u001b[0;32m     59\u001b[0m                                       inputs, attrs, num_outputs)\n\u001b[0;32m     60\u001b[0m \u001b[39mexcept\u001b[39;00m core\u001b[39m.\u001b[39m_NotOkStatusException \u001b[39mas\u001b[39;00m e:\n\u001b[0;32m     61\u001b[0m   \u001b[39mif\u001b[39;00m name \u001b[39mis\u001b[39;00m \u001b[39mnot\u001b[39;00m \u001b[39mNone\u001b[39;00m:\n",
      "\u001b[1;31mInvalidArgumentError\u001b[0m:  Incompatible shapes: [3,13] vs. [37,13]\n\t [[node sequential_77/rbf_77/sub\n (defined at C:\\Users\\gitop\\AppData\\Local\\Temp\\ipykernel_13384\\2948013630.py:66)\n]] [Op:__inference_predict_function_24187]\n\nErrors may have originated from an input operation.\nInput Source operations connected to node sequential_77/rbf_77/sub:\nIn[0] IteratorGetNext (defined at c:\\Python39\\lib\\site-packages\\keras\\engine\\training.py:1610)\t\nIn[1] sequential_77/rbf_77/transpose:\n\nOperation defined at: (most recent call last)\n>>>   File \"c:\\Python39\\lib\\runpy.py\", line 197, in _run_module_as_main\n>>>     return _run_code(code, main_globals, None,\n>>> \n>>>   File \"c:\\Python39\\lib\\runpy.py\", line 87, in _run_code\n>>>     exec(code, run_globals)\n>>> \n>>>   File \"C:\\Users\\gitop\\AppData\\Roaming\\Python\\Python39\\site-packages\\ipykernel_launcher.py\", line 17, in <module>\n>>>     app.launch_new_instance()\n>>> \n>>>   File \"c:\\Python39\\lib\\site-packages\\traitlets\\config\\application.py\", line 976, in launch_instance\n>>>     app.start()\n>>> \n>>>   File \"C:\\Users\\gitop\\AppData\\Roaming\\Python\\Python39\\site-packages\\ipykernel\\kernelapp.py\", line 712, in start\n>>>     self.io_loop.start()\n>>> \n>>>   File \"c:\\Python39\\lib\\site-packages\\tornado\\platform\\asyncio.py\", line 199, in start\n>>>     self.asyncio_loop.run_forever()\n>>> \n>>>   File \"c:\\Python39\\lib\\asyncio\\base_events.py\", line 596, in run_forever\n>>>     self._run_once()\n>>> \n>>>   File \"c:\\Python39\\lib\\asyncio\\base_events.py\", line 1890, in _run_once\n>>>     handle._run()\n>>> \n>>>   File \"c:\\Python39\\lib\\asyncio\\events.py\", line 80, in _run\n>>>     self._context.run(self._callback, *self._args)\n>>> \n>>>   File \"C:\\Users\\gitop\\AppData\\Roaming\\Python\\Python39\\site-packages\\ipykernel\\kernelbase.py\", line 510, in dispatch_queue\n>>>     await self.process_one()\n>>> \n>>>   File \"C:\\Users\\gitop\\AppData\\Roaming\\Python\\Python39\\site-packages\\ipykernel\\kernelbase.py\", line 499, in process_one\n>>>     await dispatch(*args)\n>>> \n>>>   File \"C:\\Users\\gitop\\AppData\\Roaming\\Python\\Python39\\site-packages\\ipykernel\\kernelbase.py\", line 406, in dispatch_shell\n>>>     await result\n>>> \n>>>   File \"C:\\Users\\gitop\\AppData\\Roaming\\Python\\Python39\\site-packages\\ipykernel\\kernelbase.py\", line 730, in execute_request\n>>>     reply_content = await reply_content\n>>> \n>>>   File \"C:\\Users\\gitop\\AppData\\Roaming\\Python\\Python39\\site-packages\\ipykernel\\ipkernel.py\", line 383, in do_execute\n>>>     res = shell.run_cell(\n>>> \n>>>   File \"C:\\Users\\gitop\\AppData\\Roaming\\Python\\Python39\\site-packages\\ipykernel\\zmqshell.py\", line 528, in run_cell\n>>>     return super().run_cell(*args, **kwargs)\n>>> \n>>>   File \"C:\\Users\\gitop\\AppData\\Roaming\\Python\\Python39\\site-packages\\IPython\\core\\interactiveshell.py\", line 2881, in run_cell\n>>>     result = self._run_cell(\n>>> \n>>>   File \"C:\\Users\\gitop\\AppData\\Roaming\\Python\\Python39\\site-packages\\IPython\\core\\interactiveshell.py\", line 2936, in _run_cell\n>>>     return runner(coro)\n>>> \n>>>   File \"C:\\Users\\gitop\\AppData\\Roaming\\Python\\Python39\\site-packages\\IPython\\core\\async_helpers.py\", line 129, in _pseudo_sync_runner\n>>>     coro.send(None)\n>>> \n>>>   File \"C:\\Users\\gitop\\AppData\\Roaming\\Python\\Python39\\site-packages\\IPython\\core\\interactiveshell.py\", line 3135, in run_cell_async\n>>>     has_raised = await self.run_ast_nodes(code_ast.body, cell_name,\n>>> \n>>>   File \"C:\\Users\\gitop\\AppData\\Roaming\\Python\\Python39\\site-packages\\IPython\\core\\interactiveshell.py\", line 3338, in run_ast_nodes\n>>>     if await self.run_code(code, result, async_=asy):\n>>> \n>>>   File \"C:\\Users\\gitop\\AppData\\Roaming\\Python\\Python39\\site-packages\\IPython\\core\\interactiveshell.py\", line 3398, in run_code\n>>>     exec(code_obj, self.user_global_ns, self.user_ns)\n>>> \n>>>   File \"C:\\Users\\gitop\\AppData\\Local\\Temp\\ipykernel_13384\\669943231.py\", line 3, in <cell line: 3>\n>>>     model.predict(X_train[0:3])\n>>> \n>>>   File \"c:\\Python39\\lib\\site-packages\\keras\\utils\\traceback_utils.py\", line 64, in error_handler\n>>>     return fn(*args, **kwargs)\n>>> \n>>>   File \"c:\\Python39\\lib\\site-packages\\keras\\engine\\training.py\", line 1789, in predict\n>>>     tmp_batch_outputs = self.predict_function(iterator)\n>>> \n>>>   File \"c:\\Python39\\lib\\site-packages\\keras\\engine\\training.py\", line 1621, in predict_function\n>>>     return step_function(self, iterator)\n>>> \n>>>   File \"c:\\Python39\\lib\\site-packages\\keras\\engine\\training.py\", line 1611, in step_function\n>>>     outputs = model.distribute_strategy.run(run_step, args=(data,))\n>>> \n>>>   File \"c:\\Python39\\lib\\site-packages\\keras\\engine\\training.py\", line 1604, in run_step\n>>>     outputs = model.predict_step(data)\n>>> \n>>>   File \"c:\\Python39\\lib\\site-packages\\keras\\engine\\training.py\", line 1572, in predict_step\n>>>     return self(x, training=False)\n>>> \n>>>   File \"c:\\Python39\\lib\\site-packages\\keras\\utils\\traceback_utils.py\", line 64, in error_handler\n>>>     return fn(*args, **kwargs)\n>>> \n>>>   File \"c:\\Python39\\lib\\site-packages\\keras\\engine\\base_layer.py\", line 1083, in __call__\n>>>     outputs = call_fn(inputs, *args, **kwargs)\n>>> \n>>>   File \"c:\\Python39\\lib\\site-packages\\keras\\utils\\traceback_utils.py\", line 92, in error_handler\n>>>     return fn(*args, **kwargs)\n>>> \n>>>   File \"c:\\Python39\\lib\\site-packages\\keras\\engine\\sequential.py\", line 373, in call\n>>>     return super(Sequential, self).call(inputs, training=training, mask=mask)\n>>> \n>>>   File \"c:\\Python39\\lib\\site-packages\\keras\\engine\\functional.py\", line 451, in call\n>>>     return self._run_internal_graph(\n>>> \n>>>   File \"c:\\Python39\\lib\\site-packages\\keras\\engine\\functional.py\", line 589, in _run_internal_graph\n>>>     outputs = node.layer(*args, **kwargs)\n>>> \n>>>   File \"c:\\Python39\\lib\\site-packages\\keras\\utils\\traceback_utils.py\", line 64, in error_handler\n>>>     return fn(*args, **kwargs)\n>>> \n>>>   File \"c:\\Python39\\lib\\site-packages\\keras\\engine\\base_layer.py\", line 1083, in __call__\n>>>     outputs = call_fn(inputs, *args, **kwargs)\n>>> \n>>>   File \"c:\\Python39\\lib\\site-packages\\keras\\utils\\traceback_utils.py\", line 92, in error_handler\n>>>     return fn(*args, **kwargs)\n>>> \n>>>   File \"C:\\Users\\gitop\\AppData\\Local\\Temp\\ipykernel_13384\\2948013630.py\", line 66, in call\n>>>     D = inputs - tf.transpose(self.centers)\n>>> "
     ]
    }
   ],
   "source": [
    "# print(history.params)\n",
    "# model.summary()\n",
    "model.predict(X_train[0])\n",
    "# a = tf.constant([1, 2])\n",
    "# print(type(a))"
   ]
  },
  {
   "cell_type": "code",
   "execution_count": 332,
   "metadata": {},
   "outputs": [
    {
     "name": "stdout",
     "output_type": "stream",
     "text": [
      "tf.Tensor(\n",
      "[[[ 0  0  0]\n",
      "  [-3 -3 -3]\n",
      "  [-6 -6 -6]]\n",
      "\n",
      " [[ 3  3  3]\n",
      "  [ 0  0  0]\n",
      "  [-3 -3 -3]]], shape=(2, 3, 3), dtype=int32)\n"
     ]
    }
   ],
   "source": [
    "\n",
    "# x = tf.constant([1, 2, 3])\n",
    "\n",
    "x = tf.constant([[1, 2, 3], [4, 5, 6]])\n",
    "centers = tf.constant([[1, 2, 3], [4, 5, 6], [7, 8, 9]])\n",
    "\n",
    "res = []\n",
    "\n",
    "for x_ in x:\n",
    "    res.append(x_-centers)\n",
    "\n",
    "# print(res)\n",
    "\n",
    "# result = [res_ for res_ in res]\n",
    "# print(res.shape)\n",
    "\n",
    "# for res_ in res:\n",
    "#     print(res_)\n",
    "\n",
    "# tf.concat([res[0], res[1]], 0)\n",
    "# rrrr = tf.expand_dims(res, 0)\n",
    "rrrr = tf.convert_to_tensor(res)\n",
    "print(rrrr)"
   ]
  }
 ],
 "metadata": {
  "kernelspec": {
   "display_name": "Python 3.9.0 64-bit",
   "language": "python",
   "name": "python3"
  },
  "language_info": {
   "codemirror_mode": {
    "name": "ipython",
    "version": 3
   },
   "file_extension": ".py",
   "mimetype": "text/x-python",
   "name": "python",
   "nbconvert_exporter": "python",
   "pygments_lexer": "ipython3",
   "version": "3.9.0"
  },
  "orig_nbformat": 4,
  "vscode": {
   "interpreter": {
    "hash": "81794d4967e6c3204c66dcd87b604927b115b27c00565d3d43f05ba2f3a2cb0d"
   }
  }
 },
 "nbformat": 4,
 "nbformat_minor": 2
}
